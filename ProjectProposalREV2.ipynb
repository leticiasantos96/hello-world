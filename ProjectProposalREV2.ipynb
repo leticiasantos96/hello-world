{
 "cells": [
  {
   "cell_type": "markdown",
   "metadata": {},
   "source": [
    "# Final Project - Proposal\n",
    "\n",
    "ESI4628: Decision Support Systems for Industrial Engineers<br>\n",
    "University of Central Florida\n",
    "Dr. Ivan Garibay, Ramya Akula"
   ]
  },
  {
   "cell_type": "markdown",
   "metadata": {},
   "source": [
    "### According to UCF Golden Rules of Acedamic Ethics and Honesty, Plaigarim is not accepted under any Circumstances. "
   ]
  },
  {
   "cell_type": "markdown",
   "metadata": {},
   "source": [
    "## Title : Decreasing Healthcare costs while increasing efficiency and introducing technology.\n",
    "Mention the name of the project.\n",
    "\n",
    "#### Group Members : Vivian Abreu, Alexandra Loughney, Dayan Hernandez, Leticia Santos and Sofia Covelli\n",
    "Mention the names of your group.\n",
    "\n",
    "**Note** : \n",
    "+ The group size shall not exceed 5.\n",
    "+ Student shall be in only one group. \n",
    "+ One project proposal per group shall be submitted.\n",
    "+ Once the projects and groups are approved by Dr.Garibay, they shall not be altered later.\n",
    "+ Late submissions will not be entertained."
   ]
  },
  {
   "cell_type": "markdown",
   "metadata": {},
   "source": [
    "### Areas of Selection : Statistical and Machine learning ?\n",
    " Project shall be from the following zones: \n",
    " + Mathematical\n",
    " + Statistical\n",
    " + Machine learning. \n",
    " \n",
    " **Note:**  Project selection shall not deviate from the scope of the course. "
   ]
  },
  {
   "cell_type": "markdown",
   "metadata": {},
   "source": [
    "### 1 Problem Statement :Basic diagnosis of common diseases and efficient physician referral has been in shortage. A machine learning model could deliver basic diagnosis and qualified physician referral to every citizen. The thought of having accessible health care for all is exiting yet has many constraints. A basic but accurate diagnosis and referral model could potentially decrease costs of physician’s visits for diagnosis and referral purposes. \n",
    "Mention your problem statement clearly in 50-60 words. Problem statment shall include the following:\n",
    "+ Is it a real world application?\n",
    "+ What the pressing problems?\n",
    "+ Why do you see a need to solve these problems?"
   ]
  },
  {
   "cell_type": "markdown",
   "metadata": {},
   "source": [
    "### 2 Dataset : The data sets chosen are from XXX (Source). The data sets give a solid foundation for initial symptom aknowledgement, progressing into basic disease diagnosis and later will further progress into a physician refferal that can threat the disease.\n",
    "\n",
    "Give a brief introduction of the dataset in 20-30 words.\n",
    "\n",
    "+ What is your data resource?\n",
    "+ Why do you think this dataset/s are appropriate for the problem that you picked?"
   ]
  },
  {
   "cell_type": "markdown",
   "metadata": {},
   "source": [
    "### 3 Modeling Type and Technique:  Alex, I am going to need help on this one since I am unaware of modeling techniques : /\n",
    "\n",
    "Explain precisely the modeling techniques that you chose for this project, in 20-30 words\n",
    "\n",
    "+ What is your modeling methodology? Explain all the subsections if needed.\n",
    "+ Why do you think these techniques are appropriate for the problem that you picked?"
   ]
  },
  {
   "cell_type": "markdown",
   "metadata": {},
   "source": [
    "### 4 Timeline and Roster: We can probably do a gantt chart for this and an excell spread sheet with eveyones schedule and necessary input on the project.\n",
    "\n",
    "Describe your timeline to finsih your project in 3 months, in a table with progress every two weeks. This timline shall include a roster and shall address the following:\n",
    "\n",
    "+ How do you plan to split the work among the team members?\n",
    "+ What do you achieve end of every two weeks?\n",
    "+ How much time do I need to invest?\n",
    "+ What steps are needed to submit project update in time?\n",
    "+ What steps are needed to successfully complete the project?\n",
    "\n",
    "**NOTE:** Since this your final project and that contributes to good amount of your grade. Discuss with your group thoroughly to prepare this plan. Time is precious and it will just fly away, especilly in Fall Semester. \n"
   ]
  },
  {
   "cell_type": "markdown",
   "metadata": {},
   "source": [
    "### 4 References :\n",
    "\n",
    "   [1]Kononenko, I. (2001). Machine learning for medical diagnosis: history, state of the art and perspective. Artificial Intelligence in Medicine, 23(1), 89–109. doi: 10.1016/s0933-3657(01)00077-x\n",
    "    [2]Silahtaroğlu, G., & Yılmaztürk, N. (2019). Data analysis in health and big data: A machine learning medical diagnosis model based on patients’ complaints. Communications in Statistics - Theory and Methods, 1–10. doi: 10.1080/03610926.2019.1622728 \n",
    "    [3]Stoitsis, J., Valavanis, I., Mougiakakou, S. G., Golemati, S., Nikita, A., & Nikita, K. S. (2006). Computer aided diagnosis based on medical image processing and artificial intelligence methods. Nuclear Instruments and Methods in Physics Research Section A: Accelerators, Spectrometers, Detectors and Associated Equipment, 569(2), 591–595. doi: 10.1016/j.nima.2006.08.134\n",
    "    \n",
    "\n",
    "\n",
    "State 3 references from conference proceedings and/or Journals in support of your proposal.\n"
   ]
  },
  {
   "cell_type": "markdown",
   "metadata": {},
   "source": [
    "_Last updated on 10.28.18 2:20am<br>\n",
    "(C) 2018 Complex Adaptive Systems Laboratory all rights reserved._"
   ]
  }
 ],
 "metadata": {
  "kernelspec": {
   "display_name": "Python 2",
   "language": "python",
   "name": "python2"
  },
  "language_info": {
   "codemirror_mode": {
    "name": "ipython",
    "version": 2
   },
   "file_extension": ".py",
   "mimetype": "text/x-python",
   "name": "python",
   "nbconvert_exporter": "python",
   "pygments_lexer": "ipython2",
   "version": "2.7.16"
  }
 },
 "nbformat": 4,
 "nbformat_minor": 2
}
